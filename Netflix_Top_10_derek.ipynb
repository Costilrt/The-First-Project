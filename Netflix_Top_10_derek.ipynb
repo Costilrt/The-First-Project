{
 "cells": [
  {
   "cell_type": "code",
   "execution_count": 2,
   "id": "0764af00",
   "metadata": {},
   "outputs": [],
   "source": [
    "# adding dependencies\n",
    "import os\n",
    "import matplotlib.pyplot as plt\n",
    "import requests\n",
    "from scipy import stats\n",
    "import pandas as pd\n",
    "import numpy as np\n",
    "import requests\n",
    "import time\n",
    "import json\n",
    "from pprint import pprint\n",
    "from config import omdb_key\n",
    "\n"
   ]
  },
  {
   "cell_type": "code",
   "execution_count": 3,
   "id": "a1ef0dc4",
   "metadata": {},
   "outputs": [
    {
     "data": {
      "text/html": [
       "<div>\n",
       "<style scoped>\n",
       "    .dataframe tbody tr th:only-of-type {\n",
       "        vertical-align: middle;\n",
       "    }\n",
       "\n",
       "    .dataframe tbody tr th {\n",
       "        vertical-align: top;\n",
       "    }\n",
       "\n",
       "    .dataframe thead th {\n",
       "        text-align: right;\n",
       "    }\n",
       "</style>\n",
       "<table border=\"1\" class=\"dataframe\">\n",
       "  <thead>\n",
       "    <tr style=\"text-align: right;\">\n",
       "      <th></th>\n",
       "      <th>As of</th>\n",
       "      <th>Rank</th>\n",
       "      <th>Year to Date Rank</th>\n",
       "      <th>Last Week Rank</th>\n",
       "      <th>Title</th>\n",
       "      <th>Type</th>\n",
       "      <th>Netflix Exclusive</th>\n",
       "      <th>Netflix Release Date</th>\n",
       "      <th>Days In Top 10</th>\n",
       "      <th>Viewership Score</th>\n",
       "    </tr>\n",
       "  </thead>\n",
       "  <tbody>\n",
       "    <tr>\n",
       "      <th>0</th>\n",
       "      <td>2020-04-01</td>\n",
       "      <td>1</td>\n",
       "      <td>1</td>\n",
       "      <td>1</td>\n",
       "      <td>Tiger King: Murder, Mayhem …</td>\n",
       "      <td>TV Show</td>\n",
       "      <td>Yes</td>\n",
       "      <td>Mar 20, 2020</td>\n",
       "      <td>9</td>\n",
       "      <td>90</td>\n",
       "    </tr>\n",
       "    <tr>\n",
       "      <th>1</th>\n",
       "      <td>2020-04-01</td>\n",
       "      <td>2</td>\n",
       "      <td>2</td>\n",
       "      <td>-</td>\n",
       "      <td>Ozark</td>\n",
       "      <td>TV Show</td>\n",
       "      <td>Yes</td>\n",
       "      <td>Jul 21, 2017</td>\n",
       "      <td>5</td>\n",
       "      <td>45</td>\n",
       "    </tr>\n",
       "    <tr>\n",
       "      <th>2</th>\n",
       "      <td>2020-04-01</td>\n",
       "      <td>3</td>\n",
       "      <td>3</td>\n",
       "      <td>2</td>\n",
       "      <td>All American</td>\n",
       "      <td>TV Show</td>\n",
       "      <td>NaN</td>\n",
       "      <td>Mar 28, 2019</td>\n",
       "      <td>9</td>\n",
       "      <td>76</td>\n",
       "    </tr>\n",
       "    <tr>\n",
       "      <th>3</th>\n",
       "      <td>2020-04-01</td>\n",
       "      <td>4</td>\n",
       "      <td>4</td>\n",
       "      <td>-</td>\n",
       "      <td>Blood Father</td>\n",
       "      <td>Movie</td>\n",
       "      <td>NaN</td>\n",
       "      <td>Mar 26, 2020</td>\n",
       "      <td>5</td>\n",
       "      <td>30</td>\n",
       "    </tr>\n",
       "    <tr>\n",
       "      <th>4</th>\n",
       "      <td>2020-04-01</td>\n",
       "      <td>5</td>\n",
       "      <td>5</td>\n",
       "      <td>4</td>\n",
       "      <td>The Platform</td>\n",
       "      <td>Movie</td>\n",
       "      <td>Yes</td>\n",
       "      <td>Mar 20, 2020</td>\n",
       "      <td>9</td>\n",
       "      <td>55</td>\n",
       "    </tr>\n",
       "  </tbody>\n",
       "</table>\n",
       "</div>"
      ],
      "text/plain": [
       "        As of  Rank Year to Date Rank Last Week Rank  \\\n",
       "0  2020-04-01     1                 1              1   \n",
       "1  2020-04-01     2                 2              -   \n",
       "2  2020-04-01     3                 3              2   \n",
       "3  2020-04-01     4                 4              -   \n",
       "4  2020-04-01     5                 5              4   \n",
       "\n",
       "                          Title     Type Netflix Exclusive  \\\n",
       "0  Tiger King: Murder, Mayhem …  TV Show               Yes   \n",
       "1                         Ozark  TV Show               Yes   \n",
       "2                  All American  TV Show               NaN   \n",
       "3                  Blood Father    Movie               NaN   \n",
       "4                  The Platform    Movie               Yes   \n",
       "\n",
       "  Netflix Release Date  Days In Top 10  Viewership Score  \n",
       "0         Mar 20, 2020               9                90  \n",
       "1         Jul 21, 2017               5                45  \n",
       "2         Mar 28, 2019               9                76  \n",
       "3         Mar 26, 2020               5                30  \n",
       "4         Mar 20, 2020               9                55  "
      ]
     },
     "execution_count": 3,
     "metadata": {},
     "output_type": "execute_result"
    }
   ],
   "source": [
    "path = \"C:\\\\Users\\\\Derek\\\\Desktop\\\\\"\n",
    "file = os.path.join(path, \"The-First-Project\", \"netflix_daily_top_10.csv\")\n",
    "netflix_df = pd.read_csv(file)\n",
    "netflix_df.head()"
   ]
  },
  {
   "cell_type": "code",
   "execution_count": 4,
   "id": "818e5078",
   "metadata": {},
   "outputs": [
    {
     "data": {
      "text/html": [
       "<div>\n",
       "<style scoped>\n",
       "    .dataframe tbody tr th:only-of-type {\n",
       "        vertical-align: middle;\n",
       "    }\n",
       "\n",
       "    .dataframe tbody tr th {\n",
       "        vertical-align: top;\n",
       "    }\n",
       "\n",
       "    .dataframe thead th {\n",
       "        text-align: right;\n",
       "    }\n",
       "</style>\n",
       "<table border=\"1\" class=\"dataframe\">\n",
       "  <thead>\n",
       "    <tr style=\"text-align: right;\">\n",
       "      <th></th>\n",
       "      <th>As of</th>\n",
       "      <th>Rank</th>\n",
       "      <th>Year to Date Rank</th>\n",
       "      <th>Last Week Rank</th>\n",
       "      <th>Title</th>\n",
       "      <th>Type</th>\n",
       "      <th>Netflix Exclusive</th>\n",
       "      <th>Netflix Release Date</th>\n",
       "      <th>Days In Top 10</th>\n",
       "      <th>Viewership Score</th>\n",
       "    </tr>\n",
       "  </thead>\n",
       "  <tbody>\n",
       "    <tr>\n",
       "      <th>0</th>\n",
       "      <td>2020-04-01</td>\n",
       "      <td>1</td>\n",
       "      <td>1</td>\n",
       "      <td>1</td>\n",
       "      <td>Tiger King: Murder, Mayhem …</td>\n",
       "      <td>TV Show</td>\n",
       "      <td>Yes</td>\n",
       "      <td>Mar 20, 2020</td>\n",
       "      <td>9</td>\n",
       "      <td>90</td>\n",
       "    </tr>\n",
       "    <tr>\n",
       "      <th>1</th>\n",
       "      <td>2020-04-01</td>\n",
       "      <td>2</td>\n",
       "      <td>2</td>\n",
       "      <td>-</td>\n",
       "      <td>Ozark</td>\n",
       "      <td>TV Show</td>\n",
       "      <td>Yes</td>\n",
       "      <td>Jul 21, 2017</td>\n",
       "      <td>5</td>\n",
       "      <td>45</td>\n",
       "    </tr>\n",
       "    <tr>\n",
       "      <th>2</th>\n",
       "      <td>2020-04-01</td>\n",
       "      <td>3</td>\n",
       "      <td>3</td>\n",
       "      <td>2</td>\n",
       "      <td>All American</td>\n",
       "      <td>TV Show</td>\n",
       "      <td>No</td>\n",
       "      <td>Mar 28, 2019</td>\n",
       "      <td>9</td>\n",
       "      <td>76</td>\n",
       "    </tr>\n",
       "    <tr>\n",
       "      <th>3</th>\n",
       "      <td>2020-04-01</td>\n",
       "      <td>4</td>\n",
       "      <td>4</td>\n",
       "      <td>-</td>\n",
       "      <td>Blood Father</td>\n",
       "      <td>Movie</td>\n",
       "      <td>No</td>\n",
       "      <td>Mar 26, 2020</td>\n",
       "      <td>5</td>\n",
       "      <td>30</td>\n",
       "    </tr>\n",
       "    <tr>\n",
       "      <th>4</th>\n",
       "      <td>2020-04-01</td>\n",
       "      <td>5</td>\n",
       "      <td>5</td>\n",
       "      <td>4</td>\n",
       "      <td>The Platform</td>\n",
       "      <td>Movie</td>\n",
       "      <td>Yes</td>\n",
       "      <td>Mar 20, 2020</td>\n",
       "      <td>9</td>\n",
       "      <td>55</td>\n",
       "    </tr>\n",
       "    <tr>\n",
       "      <th>...</th>\n",
       "      <td>...</td>\n",
       "      <td>...</td>\n",
       "      <td>...</td>\n",
       "      <td>...</td>\n",
       "      <td>...</td>\n",
       "      <td>...</td>\n",
       "      <td>...</td>\n",
       "      <td>...</td>\n",
       "      <td>...</td>\n",
       "      <td>...</td>\n",
       "    </tr>\n",
       "    <tr>\n",
       "      <th>7095</th>\n",
       "      <td>2022-03-11</td>\n",
       "      <td>6</td>\n",
       "      <td>5</td>\n",
       "      <td>1</td>\n",
       "      <td>Worst Roommate Ever</td>\n",
       "      <td>TV Show</td>\n",
       "      <td>Yes</td>\n",
       "      <td>Mar 1, 2022</td>\n",
       "      <td>10</td>\n",
       "      <td>81</td>\n",
       "    </tr>\n",
       "    <tr>\n",
       "      <th>7096</th>\n",
       "      <td>2022-03-11</td>\n",
       "      <td>7</td>\n",
       "      <td>7</td>\n",
       "      <td>2</td>\n",
       "      <td>Vikings: Valhalla</td>\n",
       "      <td>TV Show</td>\n",
       "      <td>Yes</td>\n",
       "      <td>Feb 25, 2022</td>\n",
       "      <td>14</td>\n",
       "      <td>100</td>\n",
       "    </tr>\n",
       "    <tr>\n",
       "      <th>7097</th>\n",
       "      <td>2022-03-11</td>\n",
       "      <td>8</td>\n",
       "      <td>8</td>\n",
       "      <td>-</td>\n",
       "      <td>Shooter</td>\n",
       "      <td>Movie</td>\n",
       "      <td>No</td>\n",
       "      <td>Aug 1, 2014</td>\n",
       "      <td>3</td>\n",
       "      <td>7</td>\n",
       "    </tr>\n",
       "    <tr>\n",
       "      <th>7098</th>\n",
       "      <td>2022-03-11</td>\n",
       "      <td>9</td>\n",
       "      <td>9</td>\n",
       "      <td>7</td>\n",
       "      <td>Shrek 2</td>\n",
       "      <td>Movie</td>\n",
       "      <td>No</td>\n",
       "      <td>Mar 1, 2022</td>\n",
       "      <td>10</td>\n",
       "      <td>33</td>\n",
       "    </tr>\n",
       "    <tr>\n",
       "      <th>7099</th>\n",
       "      <td>2022-03-11</td>\n",
       "      <td>10</td>\n",
       "      <td>10</td>\n",
       "      <td>-</td>\n",
       "      <td>Shrek</td>\n",
       "      <td>Movie</td>\n",
       "      <td>No</td>\n",
       "      <td>May 1, 2018</td>\n",
       "      <td>7</td>\n",
       "      <td>12</td>\n",
       "    </tr>\n",
       "  </tbody>\n",
       "</table>\n",
       "<p>7100 rows × 10 columns</p>\n",
       "</div>"
      ],
      "text/plain": [
       "           As of  Rank Year to Date Rank Last Week Rank  \\\n",
       "0     2020-04-01     1                 1              1   \n",
       "1     2020-04-01     2                 2              -   \n",
       "2     2020-04-01     3                 3              2   \n",
       "3     2020-04-01     4                 4              -   \n",
       "4     2020-04-01     5                 5              4   \n",
       "...          ...   ...               ...            ...   \n",
       "7095  2022-03-11     6                 5              1   \n",
       "7096  2022-03-11     7                 7              2   \n",
       "7097  2022-03-11     8                 8              -   \n",
       "7098  2022-03-11     9                 9              7   \n",
       "7099  2022-03-11    10                10              -   \n",
       "\n",
       "                             Title     Type Netflix Exclusive  \\\n",
       "0     Tiger King: Murder, Mayhem …  TV Show               Yes   \n",
       "1                            Ozark  TV Show               Yes   \n",
       "2                     All American  TV Show                No   \n",
       "3                     Blood Father    Movie                No   \n",
       "4                     The Platform    Movie               Yes   \n",
       "...                            ...      ...               ...   \n",
       "7095           Worst Roommate Ever  TV Show               Yes   \n",
       "7096             Vikings: Valhalla  TV Show               Yes   \n",
       "7097                       Shooter    Movie                No   \n",
       "7098                       Shrek 2    Movie                No   \n",
       "7099                         Shrek    Movie                No   \n",
       "\n",
       "     Netflix Release Date  Days In Top 10  Viewership Score  \n",
       "0            Mar 20, 2020               9                90  \n",
       "1            Jul 21, 2017               5                45  \n",
       "2            Mar 28, 2019               9                76  \n",
       "3            Mar 26, 2020               5                30  \n",
       "4            Mar 20, 2020               9                55  \n",
       "...                   ...             ...               ...  \n",
       "7095          Mar 1, 2022              10                81  \n",
       "7096         Feb 25, 2022              14               100  \n",
       "7097          Aug 1, 2014               3                 7  \n",
       "7098          Mar 1, 2022              10                33  \n",
       "7099          May 1, 2018               7                12  \n",
       "\n",
       "[7100 rows x 10 columns]"
      ]
     },
     "execution_count": 4,
     "metadata": {},
     "output_type": "execute_result"
    }
   ],
   "source": [
    "netflix_df[\"Netflix Exclusive\"] = netflix_df[\"Netflix Exclusive\"].fillna(\"No\")\n",
    "netflix_df"
   ]
  },
  {
   "cell_type": "code",
   "execution_count": 5,
   "id": "ff2bcd22",
   "metadata": {},
   "outputs": [
    {
     "data": {
      "text/plain": [
       "TV Show            584\n",
       "Movie              318\n",
       "Stand-Up Comedy      8\n",
       "Name: Type, dtype: int64"
      ]
     },
     "execution_count": 5,
     "metadata": {},
     "output_type": "execute_result"
    }
   ],
   "source": [
    "q2_2020 = netflix_df.loc[(netflix_df[\"As of\"] >= \"2020-04-01\") & (netflix_df[\"As of\"] <= \"2020-06-30\")]\n",
    "count = q2_2020[\"Type\"].value_counts()\n",
    "count"
   ]
  },
  {
   "cell_type": "code",
   "execution_count": 6,
   "id": "1c11f8e0",
   "metadata": {},
   "outputs": [],
   "source": [
    "q2_2020_list = [\"TV Show\", \"Movie\", \"Stand-Up Comedy\"]\n",
    "q2_2020_count = [584, 318, 8]\n",
    "colors = [\"lightgrey\", \"orange\", \"red\"]\n",
    "explode = (0, 0, 0.8)"
   ]
  },
  {
   "cell_type": "code",
   "execution_count": 7,
   "id": "48080170",
   "metadata": {},
   "outputs": [
    {
     "data": {
      "text/plain": [
       "(-1.1138123494776713,\n",
       " 1.1080316181730232,\n",
       " -1.1476295618277752,\n",
       " 1.923889055222787)"
      ]
     },
     "execution_count": 7,
     "metadata": {},
     "output_type": "execute_result"
    },
    {
     "data": {
      "image/png": "[encoded data removed]",
      "text/plain": [
       "<Figure size 432x288 with 1 Axes>"
      ]
     },
     "metadata": {},
     "output_type": "display_data"
    }
   ],
   "source": [
    "plt.pie(q2_2020_count, explode=explode, labels=q2_2020_list, colors=colors, autopct=\"%1.1f%%\", startangle=100)\n",
    "plt.axis(\"equal\")"
   ]
  },
  {
   "cell_type": "code",
   "execution_count": 8,
   "id": "402f7a30",
   "metadata": {},
   "outputs": [
    {
     "data": {
      "text/plain": [
       "TV Show            552\n",
       "Movie              356\n",
       "Stand-Up Comedy      2\n",
       "Name: Type, dtype: int64"
      ]
     },
     "execution_count": 8,
     "metadata": {},
     "output_type": "execute_result"
    }
   ],
   "source": [
    "q2_2021 = netflix_df.loc[(netflix_df[\"As of\"] >= \"2021-04-01\") & (netflix_df[\"As of\"] <= \"2021-06-30\")]\n",
    "count2 = q2_2021[\"Type\"].value_counts()\n",
    "count2"
   ]
  },
  {
   "cell_type": "code",
   "execution_count": 9,
   "id": "f3e3f2c3",
   "metadata": {},
   "outputs": [],
   "source": [
    "q2_2021_list = [\"TV Show\", \"Movie\", \"Stand-Up Comedy\"]\n",
    "q2_2021_count = [552, 356, 2]\n",
    "colors = [\"lightgrey\", \"orange\", \"red\"]\n",
    "explode = (0, 0, 0.8)"
   ]
  },
  {
   "cell_type": "code",
   "execution_count": 10,
   "id": "0727f92d",
   "metadata": {},
   "outputs": [
    {
     "data": {
      "text/plain": [
       "(-1.1057947086021842,\n",
       " 1.1178838766065236,\n",
       " -1.1507648944479323,\n",
       " 1.9152631708452996)"
      ]
     },
     "execution_count": 10,
     "metadata": {},
     "output_type": "execute_result"
    },
    {
     "data": {
      "image/png": "[encoded data removed]",
      "text/plain": [
       "<Figure size 432x288 with 1 Axes>"
      ]
     },
     "metadata": {},
     "output_type": "display_data"
    }
   ],
   "source": [
    "plt.pie(q2_2021_count, explode=explode, labels=q2_2021_list, colors=colors, autopct=\"%1.1f%%\", startangle=100)\n",
    "plt.axis(\"equal\")"
   ]
  },
  {
   "cell_type": "code",
   "execution_count": 11,
   "id": "28fe9e8e",
   "metadata": {},
   "outputs": [],
   "source": [
    "netflix_exclusive_tv = q2_2020.loc[(q2_2020[\"Netflix Exclusive\"] == \"Yes\") & (q2_2020[\"Type\"] == \"TV Show\")][\"Netflix Exclusive\"].count()\n",
    "netflix_non_exclusive_tv = q2_2020.loc[(q2_2020[\"Netflix Exclusive\"] == \"No\") & (q2_2020[\"Type\"] == \"TV Show\")][\"Netflix Exclusive\"].count()\n",
    "netflix_exlusive_movie = q2_2020.loc[(q2_2020[\"Netflix Exclusive\"] == \"Yes\") & (q2_2020[\"Type\"] == \"Movie\")][\"Netflix Exclusive\"].count()\n",
    "netflix_non_exclusive_movie = q2_2020.loc[(q2_2020[\"Netflix Exclusive\"] == \"No\") & (q2_2020[\"Type\"] == \"Movie\")][\"Netflix Exclusive\"].count()\n",
    "netflix_exlusive_comedy = q2_2020.loc[(q2_2020[\"Netflix Exclusive\"] == \"Yes\") & (q2_2020[\"Type\"] == \"Stand-Up Comedy\")][\"Netflix Exclusive\"].count()"
   ]
  },
  {
   "cell_type": "code",
   "execution_count": 12,
   "id": "d2b44777",
   "metadata": {},
   "outputs": [],
   "source": [
    "exclusive_list = [netflix_exclusive_tv, netflix_non_exclusive_tv, netflix_exlusive_movie, netflix_non_exclusive_movie,\n",
    "                netflix_exlusive_comedy]\n",
    "exclusive_names = [\"Netflix Exclusive TV Shows\", \"Netflix Non-Exclusive TV Shows\", \"Netflix Exclusive Movies\",\n",
    "                 \"Netflix Non-Exclusive Movies\", \"Netflix Exclusive Comedy Specials\"]\n",
    "colors = [\"lightgrey\", \"orange\", \"teal\", \"green\", \"red\"]\n",
    "explode = (0, 0, 0, 0, 0.8)"
   ]
  },
  {
   "cell_type": "code",
   "execution_count": 13,
   "id": "612122fb",
   "metadata": {},
   "outputs": [
    {
     "data": {
      "text/plain": [
       "([<matplotlib.patches.Wedge at 0x1d826db4f70>,\n",
       "  <matplotlib.patches.Wedge at 0x1d826db43a0>,\n",
       "  <matplotlib.patches.Wedge at 0x1d8265a93a0>,\n",
       "  <matplotlib.patches.Wedge at 0x1d8265a97c0>,\n",
       "  <matplotlib.patches.Wedge at 0x1d826dec070>],\n",
       " [Text(-1.089236071387445, -0.1535082433892238, 'Netflix Exclusive TV Shows'),\n",
       "  Text(0.6077463158792892, -0.9168666290879778, 'Netflix Non-Exclusive TV Shows'),\n",
       "  Text(1.0991248048429787, 0.0438709856156018, 'Netflix Exclusive Movies'),\n",
       "  Text(0.4616270163563959, 0.9984490461560329, 'Netflix Non-Exclusive Movies'),\n",
       "  Text(-0.2781347259849153, 1.8795321423698228, 'Netflix Exclusive Comedy Specials')],\n",
       " [Text(-0.5941287662113335, -0.0837317691213948, '48.9%'),\n",
       "  Text(0.3314979904796122, -0.5001090704116242, '15.3%'),\n",
       "  Text(0.5995226208234429, 0.023929628517600977, '17.4%'),\n",
       "  Text(0.2517965543762159, 0.5446085706305633, '17.6%'),\n",
       "  Text(-0.20494137704151652, 1.3849184206935536, '0.9%')])"
      ]
     },
     "execution_count": 13,
     "metadata": {},
     "output_type": "execute_result"
    },
    {
     "data": {
      "image/png": "[encoded data removed]",
      "text/plain": [
       "<Figure size 432x288 with 1 Axes>"
      ]
     },
     "metadata": {},
     "output_type": "display_data"
    }
   ],
   "source": [
    "plt.pie(exclusive_list, explode=explode, labels=exclusive_names, colors=colors, autopct=\"%1.1f%%\", startangle=100)"
   ]
  },
  {
   "cell_type": "code",
   "execution_count": 14,
   "id": "911e7544",
   "metadata": {},
   "outputs": [],
   "source": [
    "exclusive_tv = q2_2021.loc[(q2_2021[\"Netflix Exclusive\"] == \"Yes\") & (q2_2021[\"Type\"] == \"TV Show\")][\"Netflix Exclusive\"].count()\n",
    "non_exclusive_tv = q2_2021.loc[(q2_2021[\"Netflix Exclusive\"] == \"No\") & (q2_2021[\"Type\"] == \"TV Show\")][\"Netflix Exclusive\"].count()\n",
    "exlusive_movie = q2_2021.loc[(q2_2021[\"Netflix Exclusive\"] == \"Yes\") & (q2_2021[\"Type\"] == \"Movie\")][\"Netflix Exclusive\"].count()\n",
    "non_exclusive_movie = q2_2021.loc[(q2_2021[\"Netflix Exclusive\"] == \"No\") & (q2_2021[\"Type\"] == \"Movie\")][\"Netflix Exclusive\"].count()\n",
    "exlusive_comedy = q2_2021.loc[(q2_2021[\"Netflix Exclusive\"] == \"Yes\") & (q2_2021[\"Type\"] == \"Stand-Up Comedy\")][\"Netflix Exclusive\"].count()"
   ]
  },
  {
   "cell_type": "code",
   "execution_count": 15,
   "id": "fb6cf02e",
   "metadata": {},
   "outputs": [],
   "source": [
    "exclusive_list_21 = [exclusive_tv, non_exclusive_tv, exlusive_movie, non_exclusive_movie, exlusive_comedy]\n",
    "exclusive_names_21 = [\"Netflix Exclusive TV Shows\", \"Netflix Non-Exclusive TV Shows\", \"Netflix Exclusive Movies\",\n",
    "                 \"Netflix Non-Exclusive Movies\", \"Netflix Exclusive Comedy Specials\"]\n",
    "colors_21 = [\"lightgrey\", \"orange\", \"teal\", \"green\", \"red\"]\n",
    "explode = (0, 0, 0, 0, 0.8)"
   ]
  },
  {
   "cell_type": "code",
   "execution_count": 16,
   "id": "85532006",
   "metadata": {},
   "outputs": [
    {
     "data": {
      "text/plain": [
       "([<matplotlib.patches.Wedge at 0x1d826dcbe50>,\n",
       "  <matplotlib.patches.Wedge at 0x1d826de7610>,\n",
       "  <matplotlib.patches.Wedge at 0x1d826de7cd0>,\n",
       "  <matplotlib.patches.Wedge at 0x1d826e0f430>,\n",
       "  <matplotlib.patches.Wedge at 0x1d826e0fb80>],\n",
       " [Text(-1.077685242513494, 0.22044164322702725, 'Netflix Exclusive TV Shows'),\n",
       "  Text(0.1459839569620566, -1.0902700052325114, 'Netflix Non-Exclusive TV Shows'),\n",
       "  Text(1.0999571892272029, 0.009704734277212792, 'Netflix Exclusive Movies'),\n",
       "  Text(0.35952092457828977, 1.0395887190569029, 'Netflix Non-Exclusive Movies'),\n",
       "  Text(-0.3170045178580341, 1.8733681260386588, 'Netflix Exclusive Comedy Specials')],\n",
       " [Text(-0.5878283140982694, 0.12024089630565121, '38.0%'),\n",
       "  Text(0.0796276128883945, -0.5946927301268243, '22.6%'),\n",
       "  Text(0.5999766486693834, 0.00529349142393425, '23.4%'),\n",
       "  Text(0.19610232249724893, 0.567048392212856, '15.7%'),\n",
       "  Text(-0.23358227631644612, 1.3803765139232222, '0.2%')])"
      ]
     },
     "execution_count": 16,
     "metadata": {},
     "output_type": "execute_result"
    },
    {
     "data": {
      "image/png": "[encoded data removed]",
      "text/plain": [
       "<Figure size 432x288 with 1 Axes>"
      ]
     },
     "metadata": {},
     "output_type": "display_data"
    }
   ],
   "source": [
    "plt.pie(exclusive_list_21, explode=explode, labels=exclusive_names_21, colors=colors, autopct=\"%1.1f%%\", startangle=100)"
   ]
  },
  {
   "cell_type": "code",
   "execution_count": 38,
   "id": "c78a6e9c",
   "metadata": {},
   "outputs": [
    {
     "data": {
      "text/html": [
       "<div>\n",
       "<style scoped>\n",
       "    .dataframe tbody tr th:only-of-type {\n",
       "        vertical-align: middle;\n",
       "    }\n",
       "\n",
       "    .dataframe tbody tr th {\n",
       "        vertical-align: top;\n",
       "    }\n",
       "\n",
       "    .dataframe thead th {\n",
       "        text-align: right;\n",
       "    }\n",
       "</style>\n",
       "<table border=\"1\" class=\"dataframe\">\n",
       "  <thead>\n",
       "    <tr style=\"text-align: right;\">\n",
       "      <th></th>\n",
       "      <th>Title</th>\n",
       "    </tr>\n",
       "  </thead>\n",
       "  <tbody>\n",
       "    <tr>\n",
       "      <th>Outer Banks</th>\n",
       "      <td>41</td>\n",
       "    </tr>\n",
       "    <tr>\n",
       "      <th>Ozark</th>\n",
       "      <td>40</td>\n",
       "    </tr>\n",
       "    <tr>\n",
       "      <th>Tiger King: Murder, Mayhem …</th>\n",
       "      <td>27</td>\n",
       "    </tr>\n",
       "    <tr>\n",
       "      <th>Space Force</th>\n",
       "      <td>25</td>\n",
       "    </tr>\n",
       "    <tr>\n",
       "      <th>Dead to Me</th>\n",
       "      <td>25</td>\n",
       "    </tr>\n",
       "    <tr>\n",
       "      <th>13 Reasons Why</th>\n",
       "      <td>22</td>\n",
       "    </tr>\n",
       "    <tr>\n",
       "      <th>Jeffrey Epstein: Filthy Rich</th>\n",
       "      <td>21</td>\n",
       "    </tr>\n",
       "    <tr>\n",
       "      <th>Sweet Magnolias</th>\n",
       "      <td>19</td>\n",
       "    </tr>\n",
       "    <tr>\n",
       "      <th>Money Heist</th>\n",
       "      <td>16</td>\n",
       "    </tr>\n",
       "    <tr>\n",
       "      <th>Too Hot to Handle</th>\n",
       "      <td>15</td>\n",
       "    </tr>\n",
       "  </tbody>\n",
       "</table>\n",
       "</div>"
      ],
      "text/plain": [
       "                              Title\n",
       "Outer Banks                      41\n",
       "Ozark                            40\n",
       "Tiger King: Murder, Mayhem …     27\n",
       "Space Force                      25\n",
       "Dead to Me                       25\n",
       "13 Reasons Why                   22\n",
       "Jeffrey Epstein: Filthy Rich     21\n",
       "Sweet Magnolias                  19\n",
       "Money Heist                      16\n",
       "Too Hot to Handle                15"
      ]
     },
     "execution_count": 38,
     "metadata": {},
     "output_type": "execute_result"
    }
   ],
   "source": [
    "tv_show = q2_2020.loc[(q2_2020[\"Type\"] == \"TV Show\") & (q2_2020[\"Netflix Exclusive\"] == \"Yes\")]\n",
    "title = tv_show[\"Title\"].value_counts()\n",
    "df = pd.DataFrame(title)[0:10]\n",
    "df"
   ]
  },
  {
   "cell_type": "code",
   "execution_count": 43,
   "id": "1592c0d1",
   "metadata": {},
   "outputs": [
    {
     "data": {
      "text/plain": [
       "<AxesSubplot:ylabel='Number of Days in Top 10 (Q2/20)'>"
      ]
     },
     "execution_count": 43,
     "metadata": {},
     "output_type": "execute_result"
    },
    {
     "data": {
      "image/png": "[encoded data removed]",
      "text/plain": [
       "<Figure size 432x288 with 1 Axes>"
      ]
     },
     "metadata": {
      "needs_background": "light"
     },
     "output_type": "display_data"
    }
   ],
   "source": [
    "# not finalized yet but I was just checking to see if common tv shows from q2/2020 when compared to q2/2021\n",
    "df.plot(kind=\"bar\", ylabel=\"Number of Days in Top 10 (Q2/20)\", color='r', alpha=0.5, align=\"center\")"
   ]
  },
  {
   "cell_type": "code",
   "execution_count": 44,
   "id": "b3b6a714",
   "metadata": {},
   "outputs": [
    {
     "data": {
      "text/html": [
       "<div>\n",
       "<style scoped>\n",
       "    .dataframe tbody tr th:only-of-type {\n",
       "        vertical-align: middle;\n",
       "    }\n",
       "\n",
       "    .dataframe tbody tr th {\n",
       "        vertical-align: top;\n",
       "    }\n",
       "\n",
       "    .dataframe thead th {\n",
       "        text-align: right;\n",
       "    }\n",
       "</style>\n",
       "<table border=\"1\" class=\"dataframe\">\n",
       "  <thead>\n",
       "    <tr style=\"text-align: right;\">\n",
       "      <th></th>\n",
       "      <th>Title</th>\n",
       "    </tr>\n",
       "  </thead>\n",
       "  <tbody>\n",
       "    <tr>\n",
       "      <th>Who Killed Sara?</th>\n",
       "      <td>37</td>\n",
       "    </tr>\n",
       "    <tr>\n",
       "      <th>Sweet Tooth</th>\n",
       "      <td>26</td>\n",
       "    </tr>\n",
       "    <tr>\n",
       "      <th>The Circle US</th>\n",
       "      <td>25</td>\n",
       "    </tr>\n",
       "    <tr>\n",
       "      <th>The Serpent</th>\n",
       "      <td>25</td>\n",
       "    </tr>\n",
       "    <tr>\n",
       "      <th>Shadow and Bone</th>\n",
       "      <td>21</td>\n",
       "    </tr>\n",
       "    <tr>\n",
       "      <th>Jupiterâs Legacy</th>\n",
       "      <td>20</td>\n",
       "    </tr>\n",
       "    <tr>\n",
       "      <th>The Upshaws</th>\n",
       "      <td>16</td>\n",
       "    </tr>\n",
       "    <tr>\n",
       "      <th>Ragnarok</th>\n",
       "      <td>13</td>\n",
       "    </tr>\n",
       "    <tr>\n",
       "      <th>Selena: The Series</th>\n",
       "      <td>10</td>\n",
       "    </tr>\n",
       "    <tr>\n",
       "      <th>Ginny &amp; Georgia</th>\n",
       "      <td>10</td>\n",
       "    </tr>\n",
       "  </tbody>\n",
       "</table>\n",
       "</div>"
      ],
      "text/plain": [
       "                    Title\n",
       "Who Killed Sara?       37\n",
       "Sweet Tooth            26\n",
       "The Circle US          25\n",
       "The Serpent            25\n",
       "Shadow and Bone        21\n",
       "Jupiterâs Legacy     20\n",
       "The Upshaws            16\n",
       "Ragnarok               13\n",
       "Selena: The Series     10\n",
       "Ginny & Georgia        10"
      ]
     },
     "execution_count": 44,
     "metadata": {},
     "output_type": "execute_result"
    }
   ],
   "source": [
    "tv_show_21 = q2_2021.loc[(q2_2021[\"Type\"] == \"TV Show\") & (q2_2021[\"Netflix Exclusive\"] == \"Yes\")]\n",
    "title_21 = tv_show_21[\"Title\"].value_counts()\n",
    "df_21 = pd.DataFrame(title_21)[0:10]\n",
    "df_21"
   ]
  },
  {
   "cell_type": "code",
   "execution_count": 45,
   "id": "765dbf34",
   "metadata": {},
   "outputs": [
    {
     "data": {
      "text/plain": [
       "<AxesSubplot:ylabel='Number of Days in Top 10 (Q2/21)'>"
      ]
     },
     "execution_count": 45,
     "metadata": {},
     "output_type": "execute_result"
    },
    {
     "name": "stderr",
     "output_type": "stream",
     "text": [
      "C:\\Users\\Derek\\anaconda3\\lib\\site-packages\\matplotlib\\backends\\backend_agg.py:240: RuntimeWarning: Glyph 128 missing from current font.\n",
      "  font.set_text(s, 0.0, flags=flags)\n",
      "C:\\Users\\Derek\\anaconda3\\lib\\site-packages\\matplotlib\\backends\\backend_agg.py:240: RuntimeWarning: Glyph 153 missing from current font.\n",
      "  font.set_text(s, 0.0, flags=flags)\n",
      "C:\\Users\\Derek\\anaconda3\\lib\\site-packages\\matplotlib\\backends\\backend_agg.py:203: RuntimeWarning: Glyph 128 missing from current font.\n",
      "  font.set_text(s, 0, flags=flags)\n",
      "C:\\Users\\Derek\\anaconda3\\lib\\site-packages\\matplotlib\\backends\\backend_agg.py:203: RuntimeWarning: Glyph 153 missing from current font.\n",
      "  font.set_text(s, 0, flags=flags)\n"
     ]
    },
    {
     "data": {
      "image/png": "[encoded data removed]",
      "text/plain": [
       "<Figure size 432x288 with 1 Axes>"
      ]
     },
     "metadata": {
      "needs_background": "light"
     },
     "output_type": "display_data"
    }
   ],
   "source": [
    "# not finalized yet but I was just checking to see if common tv shows from q2/2020 when compared to q2/2021\n",
    "df_21.plot(kind=\"bar\", ylabel=\"Number of Days in Top 10 (Q2/21)\", color='r', alpha=0.5, align=\"center\")"
   ]
  },
  {
   "cell_type": "code",
   "execution_count": null,
   "id": "ce857c5b",
   "metadata": {},
   "outputs": [],
   "source": []
  }
 ],
 "metadata": {
  "kernelspec": {
   "display_name": "Python 3 (ipykernel)",
   "language": "python",
   "name": "python3"
  },
  "language_info": {
   "codemirror_mode": {
    "name": "ipython",
    "version": 3
   },
   "file_extension": ".py",
   "mimetype": "text/x-python",
   "name": "python",
   "nbconvert_exporter": "python",
   "pygments_lexer": "ipython3",
   "version": "3.9.7"
  }
 },
 "nbformat": 4,
 "nbformat_minor": 5
}
